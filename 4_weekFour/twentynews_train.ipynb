{
 "cells": [
  {
   "cell_type": "markdown",
   "metadata": {},
   "source": [
    "# briefly explore the dataset"
   ]
  },
  {
   "cell_type": "code",
   "execution_count": 1,
   "metadata": {
    "collapsed": false
   },
   "outputs": [],
   "source": [
    "from sklearn.datasets import fetch_20newsgroups"
   ]
  },
  {
   "cell_type": "code",
   "execution_count": 2,
   "metadata": {
    "collapsed": true
   },
   "outputs": [],
   "source": [
    "# categories = ['alt.atheism', 'soc.religion.christian', 'comp.graphics', 'sci.med']\n",
    "twenty_data = fetch_20newsgroups(shuffle=True, random_state=42)"
   ]
  },
  {
   "cell_type": "code",
   "execution_count": 3,
   "metadata": {
    "collapsed": false
   },
   "outputs": [
    {
     "data": {
      "text/plain": [
       "sklearn.datasets.base.Bunch"
      ]
     },
     "execution_count": 3,
     "metadata": {},
     "output_type": "execute_result"
    }
   ],
   "source": [
    "type(twenty_data)"
   ]
  },
  {
   "cell_type": "code",
   "execution_count": 5,
   "metadata": {
    "collapsed": false
   },
   "outputs": [],
   "source": [
    "target_names = twenty_data.target_names"
   ]
  },
  {
   "cell_type": "code",
   "execution_count": 24,
   "metadata": {
    "collapsed": false
   },
   "outputs": [
    {
     "name": "stdout",
     "output_type": "stream",
     "text": [
      "alt.atheism\n"
     ]
    }
   ],
   "source": [
    "print target_names[0]"
   ]
  },
  {
   "cell_type": "code",
   "execution_count": 6,
   "metadata": {
    "collapsed": false,
    "scrolled": true
   },
   "outputs": [
    {
     "name": "stdout",
     "output_type": "stream",
     "text": [
      "rec.autos\n",
      "comp.sys.mac.hardware\n",
      "comp.sys.mac.hardware\n",
      "comp.graphics\n",
      "sci.space\n",
      "talk.politics.guns\n",
      "sci.med\n",
      "comp.sys.ibm.pc.hardware\n",
      "comp.os.ms-windows.misc\n",
      "comp.sys.mac.hardware\n"
     ]
    }
   ],
   "source": [
    "all_categories = [twenty_data.target_names[t] for t in twenty_data.target]\n",
    "for s in all_categories[:10]:\n",
    "    print s"
   ]
  },
  {
   "cell_type": "code",
   "execution_count": null,
   "metadata": {
    "collapsed": true
   },
   "outputs": [],
   "source": []
  },
  {
   "cell_type": "markdown",
   "metadata": {},
   "source": [
    "# for exportation"
   ]
  },
  {
   "cell_type": "code",
   "execution_count": 7,
   "metadata": {
    "collapsed": false
   },
   "outputs": [],
   "source": [
    "from sklearn.cross_validation import train_test_split\n",
    "\n",
    "twenty_train, twenty_test, y_train, y_test = train_test_split(\n",
    "    twenty_data.data, twenty_data.target, test_size=0.3)"
   ]
  },
  {
   "cell_type": "code",
   "execution_count": 9,
   "metadata": {
    "collapsed": false
   },
   "outputs": [],
   "source": [
    "from sklearn.feature_extraction.text import CountVectorizer\n",
    "from sklearn.feature_extraction.text import TfidfTransformer\n",
    "\n",
    "count_vect = CountVectorizer()\n",
    "train_counts = count_vect.fit_transform(twenty_train)\n",
    "tfidf_transformer = TfidfTransformer()\n",
    "train_tfidf = tfidf_transformer.fit_transform(train_counts)"
   ]
  },
  {
   "cell_type": "code",
   "execution_count": 16,
   "metadata": {
    "collapsed": false
   },
   "outputs": [],
   "source": [
    "from sklearn.naive_bayes import MultinomialNB\n",
    "export_clf_nb = MultinomialNB().fit(train_tfidf, y_train)"
   ]
  },
  {
   "cell_type": "code",
   "execution_count": 19,
   "metadata": {
    "collapsed": false
   },
   "outputs": [],
   "source": [
    "from sklearn.linear_model import SGDClassifier\n",
    "export_clf_svm = (SGDClassifier(loss='hinge', penalty='l2', alpha=1e-4, n_iter=5, random_state=42)\n",
    "                            .fit(train_tfidf, y_train))"
   ]
  },
  {
   "cell_type": "code",
   "execution_count": 22,
   "metadata": {
    "collapsed": true
   },
   "outputs": [],
   "source": [
    "import pickle\n",
    "\n",
    "with open('export.pickle', 'wb') as f:\n",
    "    pickle.dump([count_vect, tfidf_transformer, target_names, [export_clf_nb, export_clf_svm]], f)"
   ]
  },
  {
   "cell_type": "code",
   "execution_count": 25,
   "metadata": {
    "collapsed": false
   },
   "outputs": [
    {
     "name": "stdout",
     "output_type": "stream",
     "text": [
      "'God is love' => soc.religion.christian\n",
      "'OpenGL on the GPU is fast' => rec.autos\n"
     ]
    }
   ],
   "source": [
    "docs_new = ['God is love', 'OpenGL on the GPU is fast']\n",
    "X_new_counts = count_vect.transform(docs_new)\n",
    "X_new_tfidf = tfidf_transformer.transform(X_new_counts)\n",
    "predicted_new = clf.predict(X_new_tfidf)\n",
    "\n",
    "for doc, category in zip(docs_new, predicted_new):\n",
    "    print('%r => %s' % (doc, target_names[category]))\n",
    "    \n",
    "##TypeError: only integer arrays with one element can be converted to an index"
   ]
  },
  {
   "cell_type": "code",
   "execution_count": 21,
   "metadata": {
    "collapsed": false
   },
   "outputs": [
    {
     "name": "stdout",
     "output_type": "stream",
     "text": [
      "                          precision    recall  f1-score   support\n",
      "\n",
      "             alt.atheism       0.83      0.72      0.77       133\n",
      "           comp.graphics       0.90      0.71      0.79       183\n",
      " comp.os.ms-windows.misc       0.84      0.89      0.86       172\n",
      "comp.sys.ibm.pc.hardware       0.76      0.80      0.78       184\n",
      "   comp.sys.mac.hardware       0.92      0.80      0.86       186\n",
      "          comp.windows.x       0.94      0.81      0.87       197\n",
      "            misc.forsale       0.93      0.62      0.74       194\n",
      "               rec.autos       0.87      0.87      0.87       184\n",
      "         rec.motorcycles       0.93      0.97      0.95       179\n",
      "      rec.sport.baseball       0.96      0.93      0.94       185\n",
      "        rec.sport.hockey       0.90      0.98      0.94       184\n",
      "               sci.crypt       0.58      0.98      0.73       165\n",
      "         sci.electronics       0.83      0.76      0.80       165\n",
      "                 sci.med       0.97      0.89      0.93       166\n",
      "               sci.space       0.86      0.95      0.91       167\n",
      "  soc.religion.christian       0.54      0.98      0.69       178\n",
      "      talk.politics.guns       0.78      0.97      0.86       157\n",
      "   talk.politics.mideast       0.95      0.99      0.97       157\n",
      "      talk.politics.misc       1.00      0.52      0.68       149\n",
      "      talk.religion.misc       1.00      0.13      0.23       110\n",
      "\n",
      "             avg / total       0.86      0.83      0.82      3395\n",
      "\n",
      "                          precision    recall  f1-score   support\n",
      "\n",
      "             alt.atheism       0.89      0.93      0.91       133\n",
      "           comp.graphics       0.81      0.87      0.84       183\n",
      " comp.os.ms-windows.misc       0.85      0.91      0.88       172\n",
      "comp.sys.ibm.pc.hardware       0.87      0.77      0.82       184\n",
      "   comp.sys.mac.hardware       0.90      0.90      0.90       186\n",
      "          comp.windows.x       0.91      0.89      0.90       197\n",
      "            misc.forsale       0.84      0.87      0.86       194\n",
      "               rec.autos       0.90      0.89      0.89       184\n",
      "         rec.motorcycles       0.95      0.97      0.96       179\n",
      "      rec.sport.baseball       0.96      0.96      0.96       185\n",
      "        rec.sport.hockey       0.95      0.97      0.96       184\n",
      "               sci.crypt       0.98      0.95      0.97       165\n",
      "         sci.electronics       0.82      0.85      0.84       165\n",
      "                 sci.med       0.96      0.94      0.95       166\n",
      "               sci.space       0.96      0.97      0.96       167\n",
      "  soc.religion.christian       0.92      0.95      0.94       178\n",
      "      talk.politics.guns       0.95      0.97      0.96       157\n",
      "   talk.politics.mideast       0.99      0.97      0.98       157\n",
      "      talk.politics.misc       0.99      0.90      0.94       149\n",
      "      talk.religion.misc       0.90      0.75      0.82       110\n",
      "\n",
      "             avg / total       0.91      0.91      0.91      3395\n",
      "\n"
     ]
    }
   ],
   "source": [
    "x_test = tfidf_transformer.transform(count_vect.transform(twenty_test))\n",
    "for clf in [export_clf_nb, export_clf_svm]:\n",
    "    print classifier_metrics(clf, x_test, y_test, target_names=target_names)"
   ]
  },
  {
   "cell_type": "markdown",
   "metadata": {},
   "source": [
    "# use pipeline"
   ]
  },
  {
   "cell_type": "code",
   "execution_count": 15,
   "metadata": {
    "collapsed": false
   },
   "outputs": [],
   "source": [
    "from sklearn.pipeline import Pipeline\n",
    "from sklearn.feature_extraction.text import CountVectorizer\n",
    "from sklearn.feature_extraction.text import TfidfTransformer\n",
    "from sklearn.naive_bayes import MultinomialNB\n",
    "\n",
    "text_clf = Pipeline([('vect', CountVectorizer()),\n",
    "                     ('tfidf', TfidfTransformer()),\n",
    "                     ('clf', MultinomialNB()),\n",
    "                    ])\n",
    "text_clf_test4 = text_clf.fit(twenty_train, y_train)"
   ]
  },
  {
   "cell_type": "code",
   "execution_count": 8,
   "metadata": {
    "collapsed": false
   },
   "outputs": [
    {
     "name": "stdout",
     "output_type": "stream",
     "text": [
      "                        precision    recall  f1-score   support\n",
      "\n",
      "           alt.atheism       0.99      0.71      0.83       200\n",
      "         comp.graphics       0.99      0.87      0.93       249\n",
      "               sci.med       0.92      0.93      0.93       215\n",
      "soc.religion.christian       0.72      0.97      0.83       239\n",
      "\n",
      "           avg / total       0.90      0.88      0.88       903\n",
      "\n"
     ]
    }
   ],
   "source": [
    "from sklearn import metrics\n",
    "\n",
    "predicted_test4 = text_clf_test4.predict(twenty_test)\n",
    "print(metrics.classification_report(y_true=y_test, y_pred=predicted_test4, target_names=twenty_data.target_names))"
   ]
  },
  {
   "cell_type": "code",
   "execution_count": 9,
   "metadata": {
    "collapsed": false
   },
   "outputs": [
    {
     "name": "stdout",
     "output_type": "stream",
     "text": [
      "                        precision    recall  f1-score   support\n",
      "\n",
      "           alt.atheism       0.99      0.95      0.97       200\n",
      "         comp.graphics       0.93      0.97      0.95       249\n",
      "               sci.med       0.96      0.93      0.94       215\n",
      "soc.religion.christian       0.95      0.96      0.95       239\n",
      "\n",
      "           avg / total       0.96      0.95      0.95       903\n",
      "\n"
     ]
    }
   ],
   "source": [
    "from sklearn.linear_model import SGDClassifier\n",
    "text_clf_svm = Pipeline([('vect', CountVectorizer()),\n",
    "                         ('tfidf', TfidfTransformer()),\n",
    "                         ('clf_svm', SGDClassifier(loss='hinge', penalty='l2',\n",
    "                                          alpha=1e-4, n_iter=5, random_state=42))\n",
    "                        ])\n",
    "\n",
    "text_clf_svm_test4 = text_clf_svm.fit(twenty_train, y_train)\n",
    "predicted_svm_test4 = text_clf_svm_test4.predict(twenty_test)\n",
    "\n",
    "print(metrics.classification_report(y_true=y_test, y_pred=predicted_svm_test4, target_names=twenty_data.target_names))\n"
   ]
  },
  {
   "cell_type": "code",
   "execution_count": 10,
   "metadata": {
    "collapsed": true
   },
   "outputs": [],
   "source": [
    "from sklearn.datasets import load_files\n",
    "from sklearn.cross_validation import train_test_split\n",
    "from os import listdir\n",
    "from os.path import isfile, join\n",
    "import chardet\n",
    "\n",
    "def load_split_data(datadir, test_size=0.4):\n",
    "\n",
    "    for f in listdir(datadir):\n",
    "        if isfile(join(datadir, f)):\n",
    "            char_encoding = chardet.detect(f)[\"encoding\"]\n",
    "            break\n",
    "        else:\n",
    "            continue\n",
    "    \n",
    "    print \"============================\"\n",
    "    print \"read files from \" + datadir\n",
    "    print \"file encoding is \" + str(char_encoding)\n",
    "    \n",
    "    dataset = load_files(datadir, encoding=char_encoding, decode_error=\"ignore\")\n",
    "    \n",
    "    x_train, x_test, y_train, y_test = train_test_split(dataset.data, dataset.target, test_size=test_size)\n",
    "    \n",
    "    return (x_train, x_test, y_train, y_test, dataset.target_names)"
   ]
  },
  {
   "cell_type": "code",
   "execution_count": 11,
   "metadata": {
    "collapsed": true
   },
   "outputs": [],
   "source": [
    "from sklearn.pipeline import Pipeline\n",
    "from sklearn.feature_extraction.text import CountVectorizer\n",
    "from sklearn.feature_extraction.text import TfidfTransformer\n",
    "from sklearn.naive_bayes import MultinomialNB\n",
    "from sklearn.linear_model import SGDClassifier\n",
    "\n",
    "def pipeline_train_classifier(classifier, x_train, y_train):\n",
    "    if classifier == \"nb\":\n",
    "        text_clf_nb = Pipeline([('vect', CountVectorizer()),\n",
    "                             ('tfidf', TfidfTransformer()),\n",
    "                             ('clf', MultinomialNB()),\n",
    "                            ])\n",
    "        return text_clf_nb.fit(x_train, y_train)\n",
    "    elif classifier == \"svm\":\n",
    "        text_clf_svm = Pipeline([('vect', CountVectorizer()),\n",
    "                                 ('tfidf', TfidfTransformer()),\n",
    "                                 ('clf_svm', SGDClassifier(loss='hinge', penalty='l2',\n",
    "                                                  alpha=1e-4, n_iter=5, random_state=42))\n",
    "                                ])\n",
    "        return text_clf_svm.fit(x_train, y_train)"
   ]
  },
  {
   "cell_type": "code",
   "execution_count": 12,
   "metadata": {
    "collapsed": false
   },
   "outputs": [],
   "source": [
    "from sklearn import metrics\n",
    "\n",
    "def classifier_metrics(clf, x_test, y_test, target_names=None):\n",
    "    predict = clf.predict(x_test)\n",
    "    return metrics.classification_report(y_test, predict, target_names=target_names)"
   ]
  },
  {
   "cell_type": "code",
   "execution_count": 9,
   "metadata": {
    "collapsed": false
   },
   "outputs": [],
   "source": [
    "x_train, x_test, y_train, y_test, target_names = load_split_data(datadir=\"./twentydata/\")"
   ]
  },
  {
   "cell_type": "code",
   "execution_count": 10,
   "metadata": {
    "collapsed": false
   },
   "outputs": [],
   "source": [
    "clf_nb = pipeline_train_classifier(\"nb\", x_train, y_train)\n",
    "clf_svm = pipeline_train_classifier(\"svm\", x_train, y_train)"
   ]
  },
  {
   "cell_type": "code",
   "execution_count": 11,
   "metadata": {
    "collapsed": false
   },
   "outputs": [
    {
     "name": "stdout",
     "output_type": "stream",
     "text": [
      "                          precision    recall  f1-score   support\n",
      "\n",
      "             alt.atheism       0.93      0.76      0.84       197\n",
      "           comp.graphics       0.89      0.77      0.83       222\n",
      " comp.os.ms-windows.misc       0.88      0.75      0.81       237\n",
      "comp.sys.ibm.pc.hardware       0.62      0.86      0.72       219\n",
      "   comp.sys.mac.hardware       0.83      0.84      0.83       213\n",
      "          comp.windows.x       0.90      0.88      0.89       228\n",
      "            misc.forsale       0.95      0.69      0.80       226\n",
      "               rec.autos       0.82      0.91      0.86       233\n",
      "         rec.motorcycles       0.96      0.92      0.94       249\n",
      "      rec.sport.baseball       0.96      0.94      0.95       250\n",
      "        rec.sport.hockey       0.95      0.96      0.95       255\n",
      "               sci.crypt       0.64      0.97      0.77       235\n",
      "         sci.electronics       0.96      0.61      0.75       250\n",
      "                 sci.med       0.96      0.94      0.95       230\n",
      "               sci.space       0.96      0.86      0.91       261\n",
      "  soc.religion.christian       0.60      0.99      0.75       257\n",
      "      talk.politics.guns       0.74      0.95      0.83       215\n",
      "   talk.politics.mideast       0.91      0.99      0.95       223\n",
      "      talk.politics.misc       0.98      0.68      0.81       179\n",
      "      talk.religion.misc       0.95      0.14      0.25       147\n",
      "\n",
      "             avg / total       0.87      0.84      0.83      4526\n",
      "\n",
      "                          precision    recall  f1-score   support\n",
      "\n",
      "             alt.atheism       0.97      0.92      0.95       197\n",
      "           comp.graphics       0.86      0.86      0.86       222\n",
      " comp.os.ms-windows.misc       0.85      0.89      0.87       237\n",
      "comp.sys.ibm.pc.hardware       0.79      0.80      0.80       219\n",
      "   comp.sys.mac.hardware       0.91      0.89      0.90       213\n",
      "          comp.windows.x       0.90      0.91      0.90       228\n",
      "            misc.forsale       0.85      0.88      0.86       226\n",
      "               rec.autos       0.92      0.92      0.92       233\n",
      "         rec.motorcycles       0.96      0.96      0.96       249\n",
      "      rec.sport.baseball       0.96      0.97      0.96       250\n",
      "        rec.sport.hockey       0.95      0.96      0.96       255\n",
      "               sci.crypt       0.97      0.95      0.96       235\n",
      "         sci.electronics       0.89      0.86      0.87       250\n",
      "                 sci.med       0.96      0.98      0.97       230\n",
      "               sci.space       0.98      0.96      0.97       261\n",
      "  soc.religion.christian       0.90      0.96      0.93       257\n",
      "      talk.politics.guns       0.94      0.94      0.94       215\n",
      "   talk.politics.mideast       0.97      0.97      0.97       223\n",
      "      talk.politics.misc       0.94      0.92      0.93       179\n",
      "      talk.religion.misc       0.88      0.80      0.84       147\n",
      "\n",
      "             avg / total       0.92      0.92      0.92      4526\n",
      "\n"
     ]
    }
   ],
   "source": [
    "for clf in [clf_nb, clf_svm]:\n",
    "    print classifier_metrics(clf, x_test, y_test, target_names=target_names)"
   ]
  },
  {
   "cell_type": "markdown",
   "metadata": {},
   "source": [
    "# train on data without metadata"
   ]
  },
  {
   "cell_type": "code",
   "execution_count": 12,
   "metadata": {
    "collapsed": false
   },
   "outputs": [
    {
     "name": "stderr",
     "output_type": "stream",
     "text": [
      "/Applications/anaconda/envs/sci_scapy/lib/python2.7/site-packages/sklearn/metrics/classification.py:1074: UndefinedMetricWarning: Precision and F-score are ill-defined and being set to 0.0 in labels with no predicted samples.\n",
      "  'precision', 'predicted', average, warn_for)\n"
     ]
    },
    {
     "name": "stdout",
     "output_type": "stream",
     "text": [
      "                          precision    recall  f1-score   support\n",
      "\n",
      "             alt.atheism       0.90      0.10      0.18       192\n",
      "           comp.graphics       0.67      0.50      0.57       222\n",
      " comp.os.ms-windows.misc       0.71      0.58      0.63       226\n",
      "comp.sys.ibm.pc.hardware       0.33      0.84      0.47       219\n",
      "   comp.sys.mac.hardware       0.98      0.36      0.53       264\n",
      "          comp.windows.x       0.85      0.75      0.79       248\n",
      "            misc.forsale       0.85      0.56      0.68       238\n",
      "               rec.autos       0.81      0.68      0.74       229\n",
      "         rec.motorcycles       0.93      0.61      0.74       235\n",
      "      rec.sport.baseball       0.94      0.76      0.84       235\n",
      "        rec.sport.hockey       0.93      0.83      0.88       243\n",
      "               sci.crypt       0.38      0.88      0.53       224\n",
      "         sci.electronics       0.88      0.53      0.66       234\n",
      "                 sci.med       0.88      0.65      0.75       238\n",
      "               sci.space       0.96      0.57      0.72       245\n",
      "  soc.religion.christian       0.22      0.97      0.36       238\n",
      "      talk.politics.guns       0.78      0.69      0.73       211\n",
      "   talk.politics.mideast       0.91      0.65      0.75       237\n",
      "      talk.politics.misc       0.86      0.06      0.12       186\n",
      "      talk.religion.misc       0.00      0.00      0.00       162\n",
      "\n",
      "             avg / total       0.75      0.59      0.60      4526\n",
      "\n",
      "                          precision    recall  f1-score   support\n",
      "\n",
      "             alt.atheism       0.65      0.66      0.66       192\n",
      "           comp.graphics       0.74      0.64      0.68       222\n",
      " comp.os.ms-windows.misc       0.63      0.74      0.68       226\n",
      "comp.sys.ibm.pc.hardware       0.71      0.63      0.67       219\n",
      "   comp.sys.mac.hardware       0.77      0.71      0.74       264\n",
      "          comp.windows.x       0.82      0.79      0.81       248\n",
      "            misc.forsale       0.79      0.74      0.76       238\n",
      "               rec.autos       0.72      0.76      0.74       229\n",
      "         rec.motorcycles       0.81      0.77      0.79       235\n",
      "      rec.sport.baseball       0.56      0.92      0.69       235\n",
      "        rec.sport.hockey       0.92      0.85      0.88       243\n",
      "               sci.crypt       0.78      0.76      0.77       224\n",
      "         sci.electronics       0.69      0.68      0.68       234\n",
      "                 sci.med       0.81      0.85      0.83       238\n",
      "               sci.space       0.87      0.73      0.80       245\n",
      "  soc.religion.christian       0.65      0.87      0.75       238\n",
      "      talk.politics.guns       0.75      0.78      0.77       211\n",
      "   talk.politics.mideast       0.88      0.81      0.84       237\n",
      "      talk.politics.misc       0.73      0.65      0.69       186\n",
      "      talk.religion.misc       0.63      0.24      0.35       162\n",
      "\n",
      "             avg / total       0.75      0.74      0.74      4526\n",
      "\n"
     ]
    }
   ],
   "source": [
    "from sklearn.datasets import fetch_20newsgroups\n",
    "from sklearn.pipeline import Pipeline\n",
    "from sklearn.feature_extraction.text import CountVectorizer\n",
    "from sklearn.feature_extraction.text import TfidfTransformer\n",
    "from sklearn.naive_bayes import MultinomialNB\n",
    "from sklearn.linear_model import SGDClassifier\n",
    "\n",
    "twenty_data = fetch_20newsgroups(remove=('headers', 'footers', 'quotes'), shuffle=True, random_state=42)\n",
    "\n",
    "twenty_train, twenty_test, twentyY_train, twentyY_test = train_test_split(\n",
    "    twenty_data.data, twenty_data.target, test_size=0.4)\n",
    "\n",
    "\n",
    "text_clf_nb = Pipeline([('vect', CountVectorizer()),\n",
    "                     ('tfidf', TfidfTransformer()),\n",
    "                     ('clf', MultinomialNB()),\n",
    "                    ])\n",
    "text_clf_nb = text_clf_nb.fit(twenty_train, twentyY_train)\n",
    "\n",
    "\n",
    "text_clf_svm = Pipeline([('vect', CountVectorizer()),\n",
    "                         ('tfidf', TfidfTransformer()),\n",
    "                         ('clf_svm', SGDClassifier(loss='hinge', penalty='l2',\n",
    "                                          alpha=1e-4, n_iter=5, random_state=42))\n",
    "                        ])\n",
    "text_clf_svm = text_clf_svm.fit(twenty_train, twentyY_train)\n",
    "\n",
    "for clf in [text_clf_nb, text_clf_svm]:\n",
    "    print classifier_metrics(clf, twenty_test, twentyY_test, target_names=target_names)"
   ]
  },
  {
   "cell_type": "code",
   "execution_count": 13,
   "metadata": {
    "collapsed": true
   },
   "outputs": [],
   "source": [
    "import pickle\n",
    "\n",
    "with open('clf.pickle', 'wb') as f:\n",
    "    pickle.dump([clf_nb, clf_svm], f)"
   ]
  },
  {
   "cell_type": "code",
   "execution_count": null,
   "metadata": {
    "collapsed": true
   },
   "outputs": [],
   "source": []
  },
  {
   "cell_type": "markdown",
   "metadata": {
    "collapsed": true
   },
   "source": [
    "# grid search for svm"
   ]
  },
  {
   "cell_type": "code",
   "execution_count": null,
   "metadata": {
    "collapsed": true
   },
   "outputs": [],
   "source": []
  },
  {
   "cell_type": "code",
   "execution_count": 21,
   "metadata": {
    "collapsed": false
   },
   "outputs": [
    {
     "name": "stdout",
     "output_type": "stream",
     "text": [
      "Performing grid search for data with meta\n",
      "pipeline: ['vect', 'tfidf', 'clf']\n",
      "parameters:\n",
      "{'clf__alpha': (0.001, 0.0001, 1e-05, 1e-06),\n",
      " 'clf__penalty': ('l2', 'elasticnet'),\n",
      " 'vect__max_df': (0.5, 0.75, 1.0),\n",
      " 'vect__ngram_range': ((1, 1), (1, 2))}\n",
      "Fitting 3 folds for each of 48 candidates, totalling 144 fits\n"
     ]
    },
    {
     "name": "stderr",
     "output_type": "stream",
     "text": [
      "[Parallel(n_jobs=-1)]: Done  42 tasks      | elapsed:  5.0min\n",
      "[Parallel(n_jobs=-1)]: Done 144 out of 144 | elapsed: 18.6min finished\n"
     ]
    },
    {
     "name": "stdout",
     "output_type": "stream",
     "text": [
      "done in 1142.334s\n",
      "\n",
      "Best score: 0.922\n",
      "Best parameters set:\n",
      "\tclf__alpha: 0.0001\n",
      "\tclf__penalty: 'l2'\n",
      "\tvect__max_df: 1.0\n",
      "\tvect__ngram_range: (1, 2)\n",
      "=============\n",
      "Performing grid search for data without meta\n",
      "pipeline: ['vect', 'tfidf', 'clf']\n",
      "parameters:\n",
      "{'clf__alpha': (0.001, 0.0001, 1e-05, 1e-06),\n",
      " 'clf__penalty': ('l2', 'elasticnet'),\n",
      " 'vect__max_df': (0.5, 0.75, 1.0),\n",
      " 'vect__ngram_range': ((1, 1), (1, 2))}\n",
      "Fitting 3 folds for each of 48 candidates, totalling 144 fits\n"
     ]
    },
    {
     "name": "stderr",
     "output_type": "stream",
     "text": [
      "[Parallel(n_jobs=-1)]: Done  42 tasks      | elapsed:  3.8min\n",
      "[Parallel(n_jobs=-1)]: Done 144 out of 144 | elapsed: 13.0min finished\n"
     ]
    },
    {
     "name": "stdout",
     "output_type": "stream",
     "text": [
      "done in 802.951s\n",
      "\n",
      "Best score: 0.752\n",
      "Best parameters set:\n",
      "\tclf__alpha: 0.0001\n",
      "\tclf__penalty: 'l2'\n",
      "\tvect__max_df: 0.5\n",
      "\tvect__ngram_range: (1, 2)\n"
     ]
    }
   ],
   "source": [
    "from __future__ import print_function\n",
    "\n",
    "from pprint import pprint\n",
    "from time import time\n",
    "import logging\n",
    "\n",
    "from sklearn.grid_search import GridSearchCV\n",
    "\n",
    "parameters = {\n",
    "    'vect__max_df': (0.5, 0.75, 1.0),\n",
    "    #'vect__max_features': (None, 5000, 10000, 50000),\n",
    "    'vect__ngram_range': ((1, 1), (1, 2)),  # unigrams or bigrams\n",
    "    #'tfidf__use_idf': (True, False),\n",
    "    #'tfidf__norm': ('l1', 'l2'),\n",
    "    'clf__alpha': (0.001, 0.0001, 0.00001, 0.000001),\n",
    "    'clf__penalty': ('l2', 'elasticnet'),\n",
    "    #'clf__n_iter': (10, 50, 80),\n",
    "}\n",
    "\n",
    "pipeline = Pipeline([\n",
    "    ('vect', CountVectorizer()),\n",
    "    ('tfidf', TfidfTransformer()),\n",
    "    ('clf', SGDClassifier()),\n",
    "])\n",
    "\n",
    "data = fetch_20newsgroups(subset='train')\n",
    "data_no_meta = fetch_20newsgroups(subset='train', remove=('headers', 'footers', 'quotes'))\n",
    "\n",
    "grid_search = GridSearchCV(pipeline, parameters, n_jobs=-1, verbose=1)\n",
    "\n",
    "def gridSearch(data, name):\n",
    "    print(\"Performing grid search for \" + name)\n",
    "    print(\"pipeline:\", [name for name, _ in pipeline.steps])\n",
    "    print(\"parameters:\")\n",
    "    pprint(parameters)\n",
    "    t0 = time()\n",
    "    grid_search.fit(data.data, data.target)\n",
    "    print(\"done in %0.3fs\" % (time() - t0))\n",
    "    print()\n",
    "\n",
    "    print(\"Best score: %0.3f\" % grid_search.best_score_)\n",
    "    print(\"Best parameters set:\")\n",
    "    best_parameters = grid_search.best_estimator_.get_params()\n",
    "    for param_name in sorted(parameters.keys()):\n",
    "        print(\"\\t%s: %r\" % (param_name, best_parameters[param_name]))\n",
    "\n",
    "gridSearch(data, \"data with meta\")\n",
    "print(\"=============\")\n",
    "gridSearch(data_no_meta, \"data without meta\")"
   ]
  },
  {
   "cell_type": "markdown",
   "metadata": {},
   "source": [
    "Best score: 0.918\n",
    "Best parameters set:\n",
    "\tclf__alpha: 1e-05\n",
    "\tclf__penalty: 'elasticnet'\n",
    "\tvect__max_df: 1.0\n",
    "\tvect__ngram_range: (1, 2)\n",
    "        \n",
    "Best score: 0.734\n",
    "Best parameters set:\n",
    "\tclf__alpha: 1e-05\n",
    "\tclf__penalty: 'elasticnet'\n",
    "\tvect__max_df: 0.5\n",
    "\tvect__ngram_range: (1, 2)"
   ]
  },
  {
   "cell_type": "code",
   "execution_count": null,
   "metadata": {
    "collapsed": true
   },
   "outputs": [],
   "source": []
  },
  {
   "cell_type": "markdown",
   "metadata": {},
   "source": [
    "# try xgboost"
   ]
  },
  {
   "cell_type": "code",
   "execution_count": null,
   "metadata": {
    "collapsed": true
   },
   "outputs": [],
   "source": [
    "from sklearn.datasets import fetch_20newsgroups\n",
    "\n",
    "# categories = ['alt.atheism', 'soc.religion.christian', 'comp.graphics', 'sci.med']\n",
    "twenty_data = fetch_20newsgroups(shuffle=True, random_state=42)\n",
    "data_no_meta = fetch_20newsgroups(subset='train', remove=('headers', 'footers', 'quotes'))"
   ]
  },
  {
   "cell_type": "code",
   "execution_count": null,
   "metadata": {
    "collapsed": true
   },
   "outputs": [],
   "source": [
    "from sklearn.cross_validation import train_test_split\n",
    "\n",
    "twenty_train, twenty_test, y_train, y_test = train_test_split(\n",
    "    twenty_data.data, twenty_data.target, test_size=0.3)\n",
    "\n",
    "from sklearn.feature_extraction.text import CountVectorizer\n",
    "from sklearn.feature_extraction.text import TfidfTransformer\n",
    "\n",
    "count_vect = CountVectorizer()\n",
    "train_counts = count_vect.fit_transform(twenty_train)\n",
    "tfidf_transformer = TfidfTransformer()\n",
    "train_tfidf = tfidf_transformer.fit_transform(train_counts)\n",
    "\n",
    "x_test = tfidf_transformer.transform(count_vect.transform(twenty_test))"
   ]
  },
  {
   "cell_type": "code",
   "execution_count": null,
   "metadata": {
    "collapsed": true
   },
   "outputs": [],
   "source": [
    "import xgboost as xgb\n",
    "\n",
    "def data_process(data):\n",
    "    twenty_train, twenty_test, y_train, y_test = train_test_split(data.data, data.target, test_size=0.3)\n",
    "    count_vect = CountVectorizer()\n",
    "    train_counts = count_vect.fit_transform(twenty_train)\n",
    "    tfidf_transformer = TfidfTransformer()\n",
    "    train_tfidf = tfidf_transformer.fit_transform(train_counts)\n",
    "    \n",
    "    x_test = tfidf_transformer.transform(count_vect.transform(twenty_test))\n",
    "    \n",
    "    dtrain = xgb.DMatrix(train_tfidf, label=y_train)\n",
    "    dtest = xgb.DMatrix(x_test, label=y_test)\n",
    "\n",
    "    \n",
    "    return dtrain, dtest, count_vect, train_tfidf\n",
    "\n",
    "nometa_train, nometa_test, count_v, tfidf = data_process(data_no_meta)\n",
    "\n",
    "param = {\n",
    "    'num_class':20,\n",
    "    'silent':0, \n",
    "    'objective':'multi:softprob',\n",
    "    'seed':42\n",
    "    }\n",
    "\n",
    "param['max_depth'] = 5\n",
    "param['nthread'] = 4\n",
    "param['learning_rate'] = 0.3\n",
    "param['n_estimators'] = 1000\n",
    "param['min_child_weight'] = 2\n",
    "param['subsample'] = 0.8\n",
    "param['eta'] = 1\n",
    "param['gamma'] = 0.5\n",
    "param['colsample_bytree'] = 0.8\n",
    "\n",
    "evallist  = [(nometa_test,'eval'), (nometa_train,'train')]\n",
    "num_round = 50\n",
    "plst = param.items()\n",
    "\n",
    "bst_nometa = xgb.train( plst, nometa_train, num_round, evallist )"
   ]
  },
  {
   "cell_type": "code",
   "execution_count": null,
   "metadata": {
    "collapsed": true
   },
   "outputs": [],
   "source": [
    "import pickle\n",
    "\n",
    "with open('xgb_nometa', 'wb') as f:\n",
    "    pickle.dump()"
   ]
  },
  {
   "cell_type": "code",
   "execution_count": null,
   "metadata": {
    "collapsed": true
   },
   "outputs": [],
   "source": []
  },
  {
   "cell_type": "code",
   "execution_count": null,
   "metadata": {
    "collapsed": true
   },
   "outputs": [],
   "source": []
  }
 ],
 "metadata": {
  "kernelspec": {
   "display_name": "Python 2",
   "language": "python",
   "name": "python2"
  },
  "language_info": {
   "codemirror_mode": {
    "name": "ipython",
    "version": 2
   },
   "file_extension": ".py",
   "mimetype": "text/x-python",
   "name": "python",
   "nbconvert_exporter": "python",
   "pygments_lexer": "ipython2",
   "version": "2.7.11"
  }
 },
 "nbformat": 4,
 "nbformat_minor": 0
}
